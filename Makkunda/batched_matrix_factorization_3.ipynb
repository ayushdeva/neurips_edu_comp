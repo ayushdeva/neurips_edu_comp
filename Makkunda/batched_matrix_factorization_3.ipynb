{
 "cells": [
  {
   "cell_type": "code",
   "execution_count": 1,
   "metadata": {},
   "outputs": [
    {
     "name": "stdout",
     "output_type": "stream",
     "text": [
      "Automatic pdb calling has been turned ON\n"
     ]
    }
   ],
   "source": [
    "%pdb"
   ]
  },
  {
   "cell_type": "code",
   "execution_count": 2,
   "metadata": {},
   "outputs": [
    {
     "name": "stdout",
     "output_type": "stream",
     "text": [
      "PyTorch Version:  1.7.1\n",
      "Torchvision Version:  0.8.2\n"
     ]
    }
   ],
   "source": [
    "from __future__ import print_function\n",
    "from __future__ import division\n",
    "import torch\n",
    "import sys\n",
    "import torch.nn as nn\n",
    "import torch.optim as optim\n",
    "import numpy as np\n",
    "import pandas as pd\n",
    "import torchvision\n",
    "from torchvision import datasets, models, transforms\n",
    "import matplotlib.pyplot as plt\n",
    "import time\n",
    "import os\n",
    "import copy\n",
    "from PIL import Image\n",
    "from torch import autograd\n",
    "from torch.autograd import Variable\n",
    "import scipy.misc\n",
    "from sklearn.metrics import confusion_matrix\n",
    "from torch.utils.data import Dataset, DataLoader\n",
    "from torchvision.utils import make_grid\n",
    "import pickle as pkl\n",
    "print(\"PyTorch Version: \",torch.__version__)\n",
    "print(\"Torchvision Version: \",torchvision.__version__)\n",
    "import tqdm\n",
    "from tqdm import tqdm"
   ]
  },
  {
   "cell_type": "code",
   "execution_count": 3,
   "metadata": {},
   "outputs": [],
   "source": [
    "data_file = \"data/train_data/train_task_1_2.csv\"\n",
    "batch_size = 32\n",
    "lr = 0.0001\n",
    "num_epochs = 5\n",
    "K = 100\n",
    "total_q = 28000\n",
    "total_s = 119000"
   ]
  },
  {
   "cell_type": "code",
   "execution_count": 4,
   "metadata": {},
   "outputs": [],
   "source": [
    "df = pd.read_csv(data_file)"
   ]
  },
  {
   "cell_type": "code",
   "execution_count": 5,
   "metadata": {},
   "outputs": [
    {
     "data": {
      "text/html": [
       "<div>\n",
       "<style scoped>\n",
       "    .dataframe tbody tr th:only-of-type {\n",
       "        vertical-align: middle;\n",
       "    }\n",
       "\n",
       "    .dataframe tbody tr th {\n",
       "        vertical-align: top;\n",
       "    }\n",
       "\n",
       "    .dataframe thead th {\n",
       "        text-align: right;\n",
       "    }\n",
       "</style>\n",
       "<table border=\"1\" class=\"dataframe\">\n",
       "  <thead>\n",
       "    <tr style=\"text-align: right;\">\n",
       "      <th></th>\n",
       "      <th>QuestionId</th>\n",
       "      <th>UserId</th>\n",
       "      <th>AnswerId</th>\n",
       "      <th>IsCorrect</th>\n",
       "      <th>CorrectAnswer</th>\n",
       "      <th>AnswerValue</th>\n",
       "    </tr>\n",
       "  </thead>\n",
       "  <tbody>\n",
       "    <tr>\n",
       "      <th>0</th>\n",
       "      <td>16997</td>\n",
       "      <td>65967</td>\n",
       "      <td>12453206</td>\n",
       "      <td>0</td>\n",
       "      <td>4</td>\n",
       "      <td>2</td>\n",
       "    </tr>\n",
       "    <tr>\n",
       "      <th>1</th>\n",
       "      <td>16531</td>\n",
       "      <td>62121</td>\n",
       "      <td>15686710</td>\n",
       "      <td>1</td>\n",
       "      <td>1</td>\n",
       "      <td>1</td>\n",
       "    </tr>\n",
       "    <tr>\n",
       "      <th>2</th>\n",
       "      <td>15911</td>\n",
       "      <td>50013</td>\n",
       "      <td>13598796</td>\n",
       "      <td>0</td>\n",
       "      <td>3</td>\n",
       "      <td>1</td>\n",
       "    </tr>\n",
       "    <tr>\n",
       "      <th>3</th>\n",
       "      <td>1701</td>\n",
       "      <td>104909</td>\n",
       "      <td>10511925</td>\n",
       "      <td>0</td>\n",
       "      <td>4</td>\n",
       "      <td>3</td>\n",
       "    </tr>\n",
       "    <tr>\n",
       "      <th>4</th>\n",
       "      <td>22896</td>\n",
       "      <td>21748</td>\n",
       "      <td>941747</td>\n",
       "      <td>0</td>\n",
       "      <td>1</td>\n",
       "      <td>4</td>\n",
       "    </tr>\n",
       "  </tbody>\n",
       "</table>\n",
       "</div>"
      ],
      "text/plain": [
       "   QuestionId  UserId  AnswerId  IsCorrect  CorrectAnswer  AnswerValue\n",
       "0       16997   65967  12453206          0              4            2\n",
       "1       16531   62121  15686710          1              1            1\n",
       "2       15911   50013  13598796          0              3            1\n",
       "3        1701  104909  10511925          0              4            3\n",
       "4       22896   21748    941747          0              1            4"
      ]
     },
     "execution_count": 5,
     "metadata": {},
     "output_type": "execute_result"
    }
   ],
   "source": [
    "df.head()"
   ]
  },
  {
   "cell_type": "code",
   "execution_count": 6,
   "metadata": {},
   "outputs": [
    {
     "data": {
      "text/html": [
       "<div>\n",
       "<style scoped>\n",
       "    .dataframe tbody tr th:only-of-type {\n",
       "        vertical-align: middle;\n",
       "    }\n",
       "\n",
       "    .dataframe tbody tr th {\n",
       "        vertical-align: top;\n",
       "    }\n",
       "\n",
       "    .dataframe thead th {\n",
       "        text-align: right;\n",
       "    }\n",
       "</style>\n",
       "<table border=\"1\" class=\"dataframe\">\n",
       "  <thead>\n",
       "    <tr style=\"text-align: right;\">\n",
       "      <th></th>\n",
       "      <th>QuestionId</th>\n",
       "      <th>UserId</th>\n",
       "      <th>AnswerId</th>\n",
       "      <th>IsCorrect</th>\n",
       "      <th>CorrectAnswer</th>\n",
       "      <th>AnswerValue</th>\n",
       "    </tr>\n",
       "  </thead>\n",
       "  <tbody>\n",
       "    <tr>\n",
       "      <th>count</th>\n",
       "      <td>1.586785e+07</td>\n",
       "      <td>1.586785e+07</td>\n",
       "      <td>1.586785e+07</td>\n",
       "      <td>1.586785e+07</td>\n",
       "      <td>1.586785e+07</td>\n",
       "      <td>1.586785e+07</td>\n",
       "    </tr>\n",
       "    <tr>\n",
       "      <th>mean</th>\n",
       "      <td>1.380277e+04</td>\n",
       "      <td>5.952587e+04</td>\n",
       "      <td>9.916806e+06</td>\n",
       "      <td>6.429503e-01</td>\n",
       "      <td>2.502599e+00</td>\n",
       "      <td>2.488978e+00</td>\n",
       "    </tr>\n",
       "    <tr>\n",
       "      <th>std</th>\n",
       "      <td>7.967465e+03</td>\n",
       "      <td>3.428394e+04</td>\n",
       "      <td>5.725901e+06</td>\n",
       "      <td>4.791297e-01</td>\n",
       "      <td>1.104868e+00</td>\n",
       "      <td>1.094272e+00</td>\n",
       "    </tr>\n",
       "    <tr>\n",
       "      <th>min</th>\n",
       "      <td>0.000000e+00</td>\n",
       "      <td>0.000000e+00</td>\n",
       "      <td>0.000000e+00</td>\n",
       "      <td>0.000000e+00</td>\n",
       "      <td>1.000000e+00</td>\n",
       "      <td>1.000000e+00</td>\n",
       "    </tr>\n",
       "    <tr>\n",
       "      <th>25%</th>\n",
       "      <td>6.890000e+03</td>\n",
       "      <td>2.980900e+04</td>\n",
       "      <td>4.957568e+06</td>\n",
       "      <td>0.000000e+00</td>\n",
       "      <td>2.000000e+00</td>\n",
       "      <td>2.000000e+00</td>\n",
       "    </tr>\n",
       "    <tr>\n",
       "      <th>50%</th>\n",
       "      <td>1.383000e+04</td>\n",
       "      <td>5.958500e+04</td>\n",
       "      <td>9.916784e+06</td>\n",
       "      <td>1.000000e+00</td>\n",
       "      <td>3.000000e+00</td>\n",
       "      <td>2.000000e+00</td>\n",
       "    </tr>\n",
       "    <tr>\n",
       "      <th>75%</th>\n",
       "      <td>2.069400e+04</td>\n",
       "      <td>8.912500e+04</td>\n",
       "      <td>1.487596e+07</td>\n",
       "      <td>1.000000e+00</td>\n",
       "      <td>3.000000e+00</td>\n",
       "      <td>3.000000e+00</td>\n",
       "    </tr>\n",
       "    <tr>\n",
       "      <th>max</th>\n",
       "      <td>2.761200e+04</td>\n",
       "      <td>1.189700e+05</td>\n",
       "      <td>1.983481e+07</td>\n",
       "      <td>1.000000e+00</td>\n",
       "      <td>4.000000e+00</td>\n",
       "      <td>4.000000e+00</td>\n",
       "    </tr>\n",
       "  </tbody>\n",
       "</table>\n",
       "</div>"
      ],
      "text/plain": [
       "         QuestionId        UserId      AnswerId     IsCorrect  CorrectAnswer  \\\n",
       "count  1.586785e+07  1.586785e+07  1.586785e+07  1.586785e+07   1.586785e+07   \n",
       "mean   1.380277e+04  5.952587e+04  9.916806e+06  6.429503e-01   2.502599e+00   \n",
       "std    7.967465e+03  3.428394e+04  5.725901e+06  4.791297e-01   1.104868e+00   \n",
       "min    0.000000e+00  0.000000e+00  0.000000e+00  0.000000e+00   1.000000e+00   \n",
       "25%    6.890000e+03  2.980900e+04  4.957568e+06  0.000000e+00   2.000000e+00   \n",
       "50%    1.383000e+04  5.958500e+04  9.916784e+06  1.000000e+00   3.000000e+00   \n",
       "75%    2.069400e+04  8.912500e+04  1.487596e+07  1.000000e+00   3.000000e+00   \n",
       "max    2.761200e+04  1.189700e+05  1.983481e+07  1.000000e+00   4.000000e+00   \n",
       "\n",
       "        AnswerValue  \n",
       "count  1.586785e+07  \n",
       "mean   2.488978e+00  \n",
       "std    1.094272e+00  \n",
       "min    1.000000e+00  \n",
       "25%    2.000000e+00  \n",
       "50%    2.000000e+00  \n",
       "75%    3.000000e+00  \n",
       "max    4.000000e+00  "
      ]
     },
     "execution_count": 6,
     "metadata": {},
     "output_type": "execute_result"
    }
   ],
   "source": [
    "df.describe()"
   ]
  },
  {
   "cell_type": "code",
   "execution_count": 7,
   "metadata": {},
   "outputs": [
    {
     "data": {
      "text/plain": [
       "27612"
      ]
     },
     "execution_count": 7,
     "metadata": {},
     "output_type": "execute_result"
    }
   ],
   "source": [
    "df['QuestionId'].max()"
   ]
  },
  {
   "cell_type": "code",
   "execution_count": 8,
   "metadata": {},
   "outputs": [
    {
     "data": {
      "text/plain": [
       "118970"
      ]
     },
     "execution_count": 8,
     "metadata": {},
     "output_type": "execute_result"
    }
   ],
   "source": [
    "df['UserId'].max()"
   ]
  },
  {
   "cell_type": "code",
   "execution_count": 9,
   "metadata": {},
   "outputs": [],
   "source": [
    "class Question_Ans(Dataset):\n",
    "    def __init__(self, filename, mode='train'):\n",
    "        self.df = pd.read_csv(filename)\n",
    "        self.questionid = self.df['QuestionId'].values\n",
    "        self.userid = self.df['UserId'].values\n",
    "        self.ans = self.df['IsCorrect'].values\n",
    "        \n",
    "        self.ans = 2*self.ans - 1\n",
    "        \n",
    "        self.length=len(self.ans)\n",
    "        \n",
    "        \n",
    "        if(mode=='train'):\n",
    "            start=int(0*self.length)\n",
    "            end=int(0.8*self.length)\n",
    "        else:\n",
    "            start=int(0.8*self.length)\n",
    "            end=int(1*self.length)\n",
    "            \n",
    "            \n",
    "        self.questionid = self.questionid[start:end]\n",
    "        self.userid = self.userid[start:end]\n",
    "        self.ans = self.ans[start:end]\n",
    "        \n",
    "        self.length=len(self.ans)\n",
    "        \n",
    "    def __len__(self):\n",
    "        return self.length\n",
    "    \n",
    "    def __getitem__(self, idx):\n",
    "        \n",
    "        qid = self.questionid[idx]\n",
    "        uid = self.userid[idx]\n",
    "        ans = self.ans[idx]\n",
    "        return qid,uid,ans"
   ]
  },
  {
   "cell_type": "code",
   "execution_count": 10,
   "metadata": {},
   "outputs": [],
   "source": [
    "train_dataset = Question_Ans(filename=data_file,mode='train')\n",
    "val_dataset = Question_Ans(filename=data_file,mode='val')"
   ]
  },
  {
   "cell_type": "code",
   "execution_count": 11,
   "metadata": {},
   "outputs": [],
   "source": [
    "train_dataloader = torch.utils.data.DataLoader(train_dataset,batch_size=batch_size, shuffle=True)\n",
    "val_dataloader = torch.utils.data.DataLoader(val_dataset,batch_size=batch_size, shuffle=False)"
   ]
  },
  {
   "cell_type": "code",
   "execution_count": 12,
   "metadata": {},
   "outputs": [],
   "source": [
    "dataloader = {}\n",
    "dataloader['train'] = train_dataloader\n",
    "dataloader['val'] = val_dataloader"
   ]
  },
  {
   "cell_type": "code",
   "execution_count": 13,
   "metadata": {},
   "outputs": [],
   "source": [
    "dtype=torch.FloatTensor"
   ]
  },
  {
   "cell_type": "code",
   "execution_count": 14,
   "metadata": {},
   "outputs": [],
   "source": [
    "# Declare two matrices \n",
    "# Q = shape (total_q,K)\n",
    "# U = shape (total_s,K)\n",
    "Q = torch.nn.Embedding(total_q,K)\n",
    "U = torch.nn.Embedding(total_s,K)"
   ]
  },
  {
   "cell_type": "code",
   "execution_count": 15,
   "metadata": {},
   "outputs": [],
   "source": [
    "# embedding = torch.nn.Embedding(5,8)"
   ]
  },
  {
   "cell_type": "code",
   "execution_count": 16,
   "metadata": {},
   "outputs": [],
   "source": [
    "# embedding(torch.LongTensor(np.array([3,4,3])))"
   ]
  },
  {
   "cell_type": "code",
   "execution_count": 17,
   "metadata": {},
   "outputs": [],
   "source": [
    "def get_qvector(questions):\n",
    "    \n",
    "#     q_list = []\n",
    "#     for i in range(questions.shape[0]):\n",
    "#         q_list.append(Q[i])\n",
    "    \n",
    "#     return torch.cat(q_list,dim=0)\n",
    "    ans = Q(torch.LongTensor(questions))\n",
    "    \n",
    "    return ans"
   ]
  },
  {
   "cell_type": "code",
   "execution_count": 18,
   "metadata": {},
   "outputs": [],
   "source": [
    "def get_uvector(users):\n",
    "    \n",
    "#     u_list = []\n",
    "#     for i in range(users.shape[0]):\n",
    "#         u_list.append(U[i])\n",
    "    \n",
    "#     return torch.cat(u_list,dim=0)\n",
    "#     print(users)\n",
    "    ans = U(torch.LongTensor(users))\n",
    "        \n",
    "    return ans"
   ]
  },
  {
   "cell_type": "code",
   "execution_count": 19,
   "metadata": {},
   "outputs": [
    {
     "name": "stdout",
     "output_type": "stream",
     "text": [
      "torch.Size([32, 1, 100])\n",
      "torch.Size([32, 100, 1])\n",
      "torch.Size([32, 1, 1])\n",
      "torch.Size([32])\n"
     ]
    }
   ],
   "source": [
    "test1 = torch.randn(32,100)\n",
    "test2 = torch.randn(32,100)\n",
    "test1 = torch.unsqueeze(test1,1)\n",
    "test2 = torch.unsqueeze(test2,2)\n",
    "print(test1.shape)\n",
    "print(test2.shape)\n",
    "res = torch.bmm(test1,test2)\n",
    "print(res.shape)\n",
    "res = torch.squeeze(res)\n",
    "print(res.shape)"
   ]
  },
  {
   "cell_type": "code",
   "execution_count": 20,
   "metadata": {},
   "outputs": [],
   "source": [
    "def get_score(qvectors,uvectors):\n",
    "    \n",
    "    q_unsq = torch.unsqueeze(qvectors, 1)\n",
    "    u_unsq = torch.unsqueeze(uvectors, 2)\n",
    "    score = torch.bmm(q_unsq,u_unsq)\n",
    "    score = torch.squeeze(score)\n",
    "    return score"
   ]
  },
  {
   "cell_type": "code",
   "execution_count": 21,
   "metadata": {},
   "outputs": [],
   "source": [
    "params_to_update = list(Q.parameters()) + list(U.parameters())"
   ]
  },
  {
   "cell_type": "code",
   "execution_count": 22,
   "metadata": {},
   "outputs": [],
   "source": [
    "criterion = nn.MSELoss()\n",
    "optimizer = optim.SGD(params=params_to_update,lr=lr, momentum=0.9)"
   ]
  },
  {
   "cell_type": "code",
   "execution_count": null,
   "metadata": {},
   "outputs": [
    {
     "name": "stderr",
     "output_type": "stream",
     "text": [
      "\r",
      "  0%|          | 0/396697 [00:00<?, ?it/s]"
     ]
    },
    {
     "name": "stdout",
     "output_type": "stream",
     "text": [
      "Epoch 0/4\n",
      "----------\n"
     ]
    },
    {
     "name": "stderr",
     "output_type": "stream",
     "text": [
      "<ipython-input-23-94a917e17ba2>:19: UserWarning: To copy construct from a tensor, it is recommended to use sourceTensor.clone().detach() or sourceTensor.clone().detach().requires_grad_(True), rather than torch.tensor(sourceTensor).\n",
      "  ans = torch.tensor(ans)\n",
      "  0%|          | 1004/396697 [00:52<5:13:28, 21.04it/s]"
     ]
    },
    {
     "name": "stdout",
     "output_type": "stream",
     "text": [
      "Batch 1000 train Loss: 3.1645 \n"
     ]
    },
    {
     "name": "stderr",
     "output_type": "stream",
     "text": [
      "  1%|          | 2002/396697 [01:40<5:08:32, 21.32it/s] "
     ]
    },
    {
     "name": "stdout",
     "output_type": "stream",
     "text": [
      "Batch 2000 train Loss: 3.1534 \n"
     ]
    },
    {
     "name": "stderr",
     "output_type": "stream",
     "text": [
      "  1%|          | 3002/396697 [02:28<5:19:00, 20.57it/s] "
     ]
    },
    {
     "name": "stdout",
     "output_type": "stream",
     "text": [
      "Batch 3000 train Loss: 3.1684 \n"
     ]
    },
    {
     "name": "stderr",
     "output_type": "stream",
     "text": [
      "  1%|          | 4004/396697 [03:18<5:19:31, 20.48it/s]"
     ]
    },
    {
     "name": "stdout",
     "output_type": "stream",
     "text": [
      "Batch 4000 train Loss: 3.1684 \n"
     ]
    },
    {
     "name": "stderr",
     "output_type": "stream",
     "text": [
      "  1%|▏         | 4999/396697 [04:24<7:44:40, 14.05it/s] "
     ]
    },
    {
     "name": "stdout",
     "output_type": "stream",
     "text": [
      "Batch 5000 train Loss: 3.1559 \n"
     ]
    },
    {
     "name": "stderr",
     "output_type": "stream",
     "text": [
      "  1%|▏         | 5819/396697 [05:21<6:15:20, 17.36it/s] "
     ]
    }
   ],
   "source": [
    "best_loss = 1e9\n",
    "for epoch in range(num_epochs):\n",
    "    print('Epoch {}/{}'.format(epoch, num_epochs - 1))\n",
    "    print('-' * 10)\n",
    "    # Each epoch has a training and validation phase\n",
    "    for phase in ['train', 'val']:\n",
    "        \n",
    "            \n",
    "        running_loss = 0.0\n",
    "        \n",
    "        # Iterate over data.\n",
    "        cnt = 0\n",
    "#         print(\"*********** entered \",phase,\"*********************\")\n",
    "        for questions,users,ans in tqdm(dataloader[phase]):\n",
    "            \n",
    "#             print(\"************ loaded data of one batch*******\")\n",
    "            \n",
    "            cnt = cnt + 1\n",
    "            ans = torch.tensor(ans)\n",
    "            ans = ans.type(dtype)\n",
    "            \n",
    "            qvectors = get_qvector(questions)\n",
    "            uvectors = get_uvector(users)\n",
    "            \n",
    "            \n",
    "            # zero the parameter gradients\n",
    "            optimizer.zero_grad()\n",
    "            # forward\n",
    "            \n",
    "            scores = get_score(qvectors,uvectors)\n",
    "            \n",
    "            loss = criterion(scores,ans)\n",
    "            \n",
    "            if phase == 'train':\n",
    "                loss.backward()\n",
    "                optimizer.step()\n",
    "        \n",
    "            # statistics\n",
    "            running_loss += loss.item()\n",
    "            \n",
    "            # compute correct\n",
    "            # running_corrects += torch.sum(preds == labels.data)\n",
    "            \n",
    "            if (cnt % 1000 == 0 ) :\n",
    "                print('Batch {} {} Loss: {:.4f} '.format(str(cnt),phase, running_loss/(cnt*batch_size)))\n",
    "            \n",
    "\n",
    "        epoch_loss = running_loss / len(dataloaders[phase].dataset)\n",
    "\n",
    "        print(' {} Loss: {:.4f} '.format(phase, epoch_loss))\n",
    "        \n",
    "        # deep copy the model\n",
    "        if phase == 'val' and epoch_loss < best_loss:\n",
    "            best_loss = epoch_loss\n",
    "            # best_model_wts = copy.deepcopy(model.state_dict())\n",
    "            # do something about saving best matrices\n",
    "    print()\n",
    "time_elapsed = time.time() - since\n",
    "print('Training complete in {:.0f}m {:.0f}s'.format(time_elapsed // 60, time_elapsed % 60))\n",
    "print('Best val Loss: {:4f}'.format(best_loss))"
   ]
  },
  {
   "cell_type": "code",
   "execution_count": null,
   "metadata": {},
   "outputs": [],
   "source": []
  }
 ],
 "metadata": {
  "kernelspec": {
   "display_name": "Python 3",
   "language": "python",
   "name": "python3"
  },
  "language_info": {
   "codemirror_mode": {
    "name": "ipython",
    "version": 3
   },
   "file_extension": ".py",
   "mimetype": "text/x-python",
   "name": "python",
   "nbconvert_exporter": "python",
   "pygments_lexer": "ipython3",
   "version": "3.8.3"
  }
 },
 "nbformat": 4,
 "nbformat_minor": 4
}
