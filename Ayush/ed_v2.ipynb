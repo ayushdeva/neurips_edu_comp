{
 "cells": [
  {
   "cell_type": "code",
   "execution_count": null,
   "metadata": {
    "id": "dchPM2XGoXZa"
   },
   "outputs": [],
   "source": []
  },
  {
   "cell_type": "code",
   "execution_count": null,
   "metadata": {
    "id": "npqIc65h-doH"
   },
   "outputs": [],
   "source": [
    "# For each question, predict the correctness of every student response as always either correct or incorrect, based on \n",
    "# whichever outcome is more common for that question in the training data.\n",
    "\n",
    "import pandas as pd\n",
    "import numpy as np\n",
    "import argparse\n",
    "import os\n",
    "from scipy.sparse import csc_matrix"
   ]
  },
  {
   "cell_type": "code",
   "execution_count": null,
   "metadata": {
    "id": "rpJ1Ex28-rAe"
   },
   "outputs": [],
   "source": [
    "base_dir = '../Data/'\n",
    "\n",
    "input_dir = base_dir + \"data/train_data\"\n",
    "train_data = base_dir + \"data/train_data/train_task_1_2.csv\"\n",
    "test_data_1 = base_dir + \"data/test_data/test_public_answers_task_1.csv\"\n",
    "# submission_template_dir = base_dir + \"data/train_data\"\n",
    "# submission_template_file = base_dir + \"data/train_data\"\n",
    "# output_dir = base_dir + \"data/train_data\"\n",
    "# output_file = base_dir + \"data/train_data\"\n",
    "\n"
   ]
  },
  {
   "cell_type": "code",
   "execution_count": null,
   "metadata": {
    "id": "ZcvFuakoq-Lp"
   },
   "outputs": [],
   "source": [
    "import pandas as pd\n",
    "df = pd.read_csv(train_data)"
   ]
  },
  {
   "cell_type": "code",
   "execution_count": null,
   "metadata": {
    "colab": {
     "base_uri": "https://localhost:8080/",
     "height": 204
    },
    "id": "QTQ7qWzFrNIu",
    "outputId": "9369419a-a2f8-4846-9908-976100ea1f1f"
   },
   "outputs": [],
   "source": [
    "df.head()"
   ]
  },
  {
   "cell_type": "code",
   "execution_count": null,
   "metadata": {
    "colab": {
     "base_uri": "https://localhost:8080/"
    },
    "id": "RWn03i2O_rzu",
    "outputId": "0172313c-6517-4963-dd29-2c9e73f82e0b"
   },
   "outputs": [],
   "source": [
    "# df.groupby('UserId').sum()\n",
    "df['UserId'].value_counts().describe()"
   ]
  },
  {
   "cell_type": "code",
   "execution_count": null,
   "metadata": {
    "colab": {
     "base_uri": "https://localhost:8080/"
    },
    "id": "e9hUrTtm_xLv",
    "outputId": "3490f842-d5c9-4da5-eaf2-4c41550ae2d7"
   },
   "outputs": [],
   "source": [
    "df['QuestionId'].value_counts().describe()"
   ]
  },
  {
   "cell_type": "code",
   "execution_count": null,
   "metadata": {
    "id": "hgAociPyA2_h"
   },
   "outputs": [],
   "source": [
    "df_test = pd.read_csv(test_data_1)"
   ]
  },
  {
   "cell_type": "code",
   "execution_count": null,
   "metadata": {
    "colab": {
     "base_uri": "https://localhost:8080/",
     "height": 204
    },
    "id": "DjxzlFPvBscE",
    "outputId": "6275643f-e458-4710-ea75-ca051a55ed27"
   },
   "outputs": [],
   "source": [
    "df_test.head()"
   ]
  },
  {
   "cell_type": "code",
   "execution_count": null,
   "metadata": {
    "id": "gLKvq9ryBuHt"
   },
   "outputs": [],
   "source": [
    "tr_uid = set(df['UserId'].values)\n",
    "test_uid = set(df_test['UserId'].values)"
   ]
  },
  {
   "cell_type": "code",
   "execution_count": null,
   "metadata": {
    "id": "dyWlPwBmCIdi"
   },
   "outputs": [],
   "source": [
    "tr_qid = set(df['QuestionId'].values)\n",
    "test_qid = set(df_test['QuestionId'].values)"
   ]
  },
  {
   "cell_type": "code",
   "execution_count": null,
   "metadata": {
    "colab": {
     "base_uri": "https://localhost:8080/"
    },
    "id": "Q_zWMnybB8K_",
    "outputId": "d53220db-c399-4e5d-c0a1-138a5d7377fb"
   },
   "outputs": [],
   "source": [
    "# len(test_uid - tr_uid)\n",
    "len(test_qid - tr_qid)"
   ]
  },
  {
   "cell_type": "markdown",
   "metadata": {},
   "source": [
    "# Checks"
   ]
  },
  {
   "cell_type": "code",
   "execution_count": null,
   "metadata": {},
   "outputs": [],
   "source": [
    "ques_ids = set(df['QuestionId'].values)\n",
    "user_ids = set(df['UserId'].values)"
   ]
  },
  {
   "cell_type": "code",
   "execution_count": null,
   "metadata": {},
   "outputs": [],
   "source": [
    "print(min(ques_ids))\n",
    "print(max(ques_ids))\n",
    "print(len(ques_ids))\n",
    "print(min(user_ids))\n",
    "print(max(user_ids))\n",
    "print(len(user_ids))"
   ]
  },
  {
   "cell_type": "code",
   "execution_count": null,
   "metadata": {},
   "outputs": [],
   "source": [
    "#TODO: Check if same QuestionID, UserId pair appears more than once"
   ]
  },
  {
   "cell_type": "markdown",
   "metadata": {},
   "source": [
    "# Method 2"
   ]
  },
  {
   "cell_type": "code",
   "execution_count": null,
   "metadata": {},
   "outputs": [],
   "source": [
    "mtr = df[['QuestionId','UserId','IsCorrect']]"
   ]
  },
  {
   "cell_type": "code",
   "execution_count": null,
   "metadata": {},
   "outputs": [],
   "source": [
    "rows = df['UserId'].values\n",
    "cols = df['QuestionId'].values\n",
    "data = df['IsCorrect'].values\n",
    "data = data*2-1"
   ]
  },
  {
   "cell_type": "code",
   "execution_count": null,
   "metadata": {},
   "outputs": [],
   "source": [
    "ind = 4\n",
    "print(rows[ind],cols[ind],data[ind])\n",
    "print(mtr.values[ind])"
   ]
  },
  {
   "cell_type": "code",
   "execution_count": null,
   "metadata": {},
   "outputs": [],
   "source": [
    "sparse_mtr = csc_matrix((data, (rows, cols)), dtype=np.int8)"
   ]
  },
  {
   "cell_type": "code",
   "execution_count": null,
   "metadata": {},
   "outputs": [],
   "source": [
    "from sparsesvd import sparsesvd\n",
    "K = 100\n",
    "print(type(sparse_mtr))\n",
    "U, s, Vt = sparsesvd(sparse_mtr, K)"
   ]
  },
  {
   "cell_type": "code",
   "execution_count": null,
   "metadata": {},
   "outputs": [],
   "source": [
    "S = np.diag(np.sqrt(s))"
   ]
  },
  {
   "cell_type": "code",
   "execution_count": null,
   "metadata": {},
   "outputs": [],
   "source": [
    "right_term = np.matmul(S,Vt)\n",
    "right_term.shape\n",
    "# U.shape"
   ]
  },
  {
   "cell_type": "code",
   "execution_count": null,
   "metadata": {},
   "outputs": [],
   "source": []
  },
  {
   "cell_type": "code",
   "execution_count": null,
   "metadata": {},
   "outputs": [],
   "source": [
    "def get_pred(qid,uid):\n",
    "    user_features = U[:,uid]\n",
    "    question_features = right_term[:,qid]\n",
    "    score = np.dot(user_features,question_features)\n",
    "    return np.sign(score)"
   ]
  },
  {
   "cell_type": "code",
   "execution_count": null,
   "metadata": {},
   "outputs": [],
   "source": [
    "df_pred = df_test.copy()\n",
    "print(df_pred.head())\n",
    "df_pred['Prediction'] = df_pred.apply(lambda row: get_pred(row['QuestionId'],row['UserId']), axis=1)"
   ]
  },
  {
   "cell_type": "code",
   "execution_count": null,
   "metadata": {},
   "outputs": [],
   "source": [
    "df_pred['Prediction'] = (df_pred['Prediction'] + 1)/2"
   ]
  },
  {
   "cell_type": "code",
   "execution_count": null,
   "metadata": {},
   "outputs": [],
   "source": [
    "score_num = (df_pred['Prediction'] == df_pred['IsCorrect']).sum()\n",
    "score_den = len(df_pred)\n",
    "score = score_num / score_den\n",
    "score"
   ]
  },
  {
   "cell_type": "code",
   "execution_count": null,
   "metadata": {},
   "outputs": [],
   "source": []
  }
 ],
 "metadata": {
  "colab": {
   "collapsed_sections": [],
   "name": "ed_v1.ipynb",
   "provenance": []
  },
  "kernelspec": {
   "display_name": "Python 3",
   "language": "python",
   "name": "python3"
  },
  "language_info": {
   "codemirror_mode": {
    "name": "ipython",
    "version": 3
   },
   "file_extension": ".py",
   "mimetype": "text/x-python",
   "name": "python",
   "nbconvert_exporter": "python",
   "pygments_lexer": "ipython3",
   "version": "3.7.6"
  }
 },
 "nbformat": 4,
 "nbformat_minor": 4
}
