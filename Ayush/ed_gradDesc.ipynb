{
 "cells": [
  {
   "cell_type": "code",
   "execution_count": null,
   "metadata": {
    "id": "dchPM2XGoXZa"
   },
   "outputs": [],
   "source": []
  },
  {
   "cell_type": "code",
   "execution_count": 1,
   "metadata": {
    "id": "npqIc65h-doH"
   },
   "outputs": [],
   "source": [
    "# For each question, predict the correctness of every student response as always either correct or incorrect, based on \n",
    "# whichever outcome is more common for that question in the training data.\n",
    "\n",
    "import pandas as pd\n",
    "import numpy as np\n",
    "import argparse\n",
    "import os"
   ]
  },
  {
   "cell_type": "code",
   "execution_count": 2,
   "metadata": {
    "id": "rpJ1Ex28-rAe"
   },
   "outputs": [],
   "source": [
    "base_dir = '../Data/'\n",
    "\n",
    "input_dir = base_dir + \"data/train_data\"\n",
    "train_data = base_dir + \"data/train_data/train_task_1_2.csv\"\n",
    "test_data_1 = base_dir + \"data/test_data/test_public_answers_task_1.csv\"\n",
    "# submission_template_dir = base_dir + \"data/train_data\"\n",
    "# submission_template_file = base_dir + \"data/train_data\"\n",
    "# output_dir = base_dir + \"data/train_data\"\n",
    "# output_file = base_dir + \"data/train_data\"\n",
    "\n"
   ]
  },
  {
   "cell_type": "code",
   "execution_count": 3,
   "metadata": {
    "id": "ZcvFuakoq-Lp"
   },
   "outputs": [],
   "source": [
    "import pandas as pd\n",
    "df = pd.read_csv(train_data)"
   ]
  },
  {
   "cell_type": "code",
   "execution_count": 4,
   "metadata": {
    "colab": {
     "base_uri": "https://localhost:8080/",
     "height": 204
    },
    "id": "QTQ7qWzFrNIu",
    "outputId": "9369419a-a2f8-4846-9908-976100ea1f1f"
   },
   "outputs": [
    {
     "data": {
      "text/html": [
       "<div>\n",
       "<style scoped>\n",
       "    .dataframe tbody tr th:only-of-type {\n",
       "        vertical-align: middle;\n",
       "    }\n",
       "\n",
       "    .dataframe tbody tr th {\n",
       "        vertical-align: top;\n",
       "    }\n",
       "\n",
       "    .dataframe thead th {\n",
       "        text-align: right;\n",
       "    }\n",
       "</style>\n",
       "<table border=\"1\" class=\"dataframe\">\n",
       "  <thead>\n",
       "    <tr style=\"text-align: right;\">\n",
       "      <th></th>\n",
       "      <th>QuestionId</th>\n",
       "      <th>UserId</th>\n",
       "      <th>AnswerId</th>\n",
       "      <th>IsCorrect</th>\n",
       "      <th>CorrectAnswer</th>\n",
       "      <th>AnswerValue</th>\n",
       "    </tr>\n",
       "  </thead>\n",
       "  <tbody>\n",
       "    <tr>\n",
       "      <th>0</th>\n",
       "      <td>16997</td>\n",
       "      <td>65967</td>\n",
       "      <td>12453206</td>\n",
       "      <td>0</td>\n",
       "      <td>4</td>\n",
       "      <td>2</td>\n",
       "    </tr>\n",
       "    <tr>\n",
       "      <th>1</th>\n",
       "      <td>16531</td>\n",
       "      <td>62121</td>\n",
       "      <td>15686710</td>\n",
       "      <td>1</td>\n",
       "      <td>1</td>\n",
       "      <td>1</td>\n",
       "    </tr>\n",
       "    <tr>\n",
       "      <th>2</th>\n",
       "      <td>15911</td>\n",
       "      <td>50013</td>\n",
       "      <td>13598796</td>\n",
       "      <td>0</td>\n",
       "      <td>3</td>\n",
       "      <td>1</td>\n",
       "    </tr>\n",
       "    <tr>\n",
       "      <th>3</th>\n",
       "      <td>1701</td>\n",
       "      <td>104909</td>\n",
       "      <td>10511925</td>\n",
       "      <td>0</td>\n",
       "      <td>4</td>\n",
       "      <td>3</td>\n",
       "    </tr>\n",
       "    <tr>\n",
       "      <th>4</th>\n",
       "      <td>22896</td>\n",
       "      <td>21748</td>\n",
       "      <td>941747</td>\n",
       "      <td>0</td>\n",
       "      <td>1</td>\n",
       "      <td>4</td>\n",
       "    </tr>\n",
       "  </tbody>\n",
       "</table>\n",
       "</div>"
      ],
      "text/plain": [
       "   QuestionId  UserId  AnswerId  IsCorrect  CorrectAnswer  AnswerValue\n",
       "0       16997   65967  12453206          0              4            2\n",
       "1       16531   62121  15686710          1              1            1\n",
       "2       15911   50013  13598796          0              3            1\n",
       "3        1701  104909  10511925          0              4            3\n",
       "4       22896   21748    941747          0              1            4"
      ]
     },
     "execution_count": 4,
     "metadata": {},
     "output_type": "execute_result"
    }
   ],
   "source": [
    "df.head()"
   ]
  },
  {
   "cell_type": "code",
   "execution_count": 5,
   "metadata": {
    "colab": {
     "base_uri": "https://localhost:8080/"
    },
    "id": "RWn03i2O_rzu",
    "outputId": "0172313c-6517-4963-dd29-2c9e73f82e0b"
   },
   "outputs": [
    {
     "data": {
      "text/plain": [
       "count    118971.000000\n",
       "mean        133.375781\n",
       "std         127.762689\n",
       "min          29.000000\n",
       "25%          57.000000\n",
       "50%          88.000000\n",
       "75%         159.000000\n",
       "max        2445.000000\n",
       "Name: UserId, dtype: float64"
      ]
     },
     "execution_count": 5,
     "metadata": {},
     "output_type": "execute_result"
    }
   ],
   "source": [
    "# df.groupby('UserId').sum()\n",
    "df['UserId'].value_counts().describe()"
   ]
  },
  {
   "cell_type": "code",
   "execution_count": 6,
   "metadata": {
    "colab": {
     "base_uri": "https://localhost:8080/"
    },
    "id": "e9hUrTtm_xLv",
    "outputId": "3490f842-d5c9-4da5-eaf2-4c41550ae2d7"
   },
   "outputs": [
    {
     "data": {
      "text/plain": [
       "count    27613.000000\n",
       "mean       574.651432\n",
       "std        654.449058\n",
       "min         34.000000\n",
       "25%        109.000000\n",
       "50%        281.000000\n",
       "75%        850.000000\n",
       "max       6868.000000\n",
       "Name: QuestionId, dtype: float64"
      ]
     },
     "execution_count": 6,
     "metadata": {},
     "output_type": "execute_result"
    }
   ],
   "source": [
    "df['QuestionId'].value_counts().describe()"
   ]
  },
  {
   "cell_type": "code",
   "execution_count": 7,
   "metadata": {
    "id": "hgAociPyA2_h"
   },
   "outputs": [],
   "source": [
    "df_test = pd.read_csv(test_data_1)"
   ]
  },
  {
   "cell_type": "code",
   "execution_count": 8,
   "metadata": {
    "colab": {
     "base_uri": "https://localhost:8080/",
     "height": 204
    },
    "id": "DjxzlFPvBscE",
    "outputId": "6275643f-e458-4710-ea75-ca051a55ed27"
   },
   "outputs": [
    {
     "data": {
      "text/html": [
       "<div>\n",
       "<style scoped>\n",
       "    .dataframe tbody tr th:only-of-type {\n",
       "        vertical-align: middle;\n",
       "    }\n",
       "\n",
       "    .dataframe tbody tr th {\n",
       "        vertical-align: top;\n",
       "    }\n",
       "\n",
       "    .dataframe thead th {\n",
       "        text-align: right;\n",
       "    }\n",
       "</style>\n",
       "<table border=\"1\" class=\"dataframe\">\n",
       "  <thead>\n",
       "    <tr style=\"text-align: right;\">\n",
       "      <th></th>\n",
       "      <th>QuestionId</th>\n",
       "      <th>UserId</th>\n",
       "      <th>AnswerId</th>\n",
       "      <th>IsCorrect</th>\n",
       "    </tr>\n",
       "  </thead>\n",
       "  <tbody>\n",
       "    <tr>\n",
       "      <th>0</th>\n",
       "      <td>10856</td>\n",
       "      <td>5518</td>\n",
       "      <td>1127409</td>\n",
       "      <td>1</td>\n",
       "    </tr>\n",
       "    <tr>\n",
       "      <th>1</th>\n",
       "      <td>14766</td>\n",
       "      <td>41565</td>\n",
       "      <td>19673056</td>\n",
       "      <td>1</td>\n",
       "    </tr>\n",
       "    <tr>\n",
       "      <th>2</th>\n",
       "      <td>2829</td>\n",
       "      <td>97267</td>\n",
       "      <td>19426951</td>\n",
       "      <td>0</td>\n",
       "    </tr>\n",
       "    <tr>\n",
       "      <th>3</th>\n",
       "      <td>26464</td>\n",
       "      <td>100879</td>\n",
       "      <td>4929721</td>\n",
       "      <td>1</td>\n",
       "    </tr>\n",
       "    <tr>\n",
       "      <th>4</th>\n",
       "      <td>24436</td>\n",
       "      <td>87722</td>\n",
       "      <td>2927607</td>\n",
       "      <td>0</td>\n",
       "    </tr>\n",
       "  </tbody>\n",
       "</table>\n",
       "</div>"
      ],
      "text/plain": [
       "   QuestionId  UserId  AnswerId  IsCorrect\n",
       "0       10856    5518   1127409          1\n",
       "1       14766   41565  19673056          1\n",
       "2        2829   97267  19426951          0\n",
       "3       26464  100879   4929721          1\n",
       "4       24436   87722   2927607          0"
      ]
     },
     "execution_count": 8,
     "metadata": {},
     "output_type": "execute_result"
    }
   ],
   "source": [
    "df_test.head()"
   ]
  },
  {
   "cell_type": "code",
   "execution_count": 9,
   "metadata": {
    "id": "gLKvq9ryBuHt"
   },
   "outputs": [],
   "source": [
    "tr_uid = set(df['UserId'].values)\n",
    "test_uid = set(df_test['UserId'].values)"
   ]
  },
  {
   "cell_type": "code",
   "execution_count": 10,
   "metadata": {
    "id": "dyWlPwBmCIdi"
   },
   "outputs": [],
   "source": [
    "tr_qid = set(df['QuestionId'].values)\n",
    "test_qid = set(df_test['QuestionId'].values)"
   ]
  },
  {
   "cell_type": "code",
   "execution_count": 11,
   "metadata": {
    "colab": {
     "base_uri": "https://localhost:8080/"
    },
    "id": "Q_zWMnybB8K_",
    "outputId": "d53220db-c399-4e5d-c0a1-138a5d7377fb"
   },
   "outputs": [
    {
     "data": {
      "text/plain": [
       "0"
      ]
     },
     "execution_count": 11,
     "metadata": {},
     "output_type": "execute_result"
    }
   ],
   "source": [
    "# len(test_uid - tr_uid)\n",
    "len(test_qid - tr_qid)"
   ]
  },
  {
   "cell_type": "markdown",
   "metadata": {},
   "source": [
    "# Checks"
   ]
  },
  {
   "cell_type": "code",
   "execution_count": 12,
   "metadata": {},
   "outputs": [],
   "source": [
    "ques_ids = set(df['QuestionId'].values)\n",
    "user_ids = set(df['UserId'].values)"
   ]
  },
  {
   "cell_type": "code",
   "execution_count": 13,
   "metadata": {},
   "outputs": [
    {
     "name": "stdout",
     "output_type": "stream",
     "text": [
      "0\n",
      "27612\n",
      "27613\n",
      "0\n",
      "118970\n",
      "118971\n"
     ]
    }
   ],
   "source": [
    "print(min(ques_ids))\n",
    "print(max(ques_ids))\n",
    "print(len(ques_ids))\n",
    "print(min(user_ids))\n",
    "print(max(user_ids))\n",
    "print(len(user_ids))"
   ]
  },
  {
   "cell_type": "code",
   "execution_count": 14,
   "metadata": {},
   "outputs": [],
   "source": [
    "#TODO: Check if same QuestionID, UserId pair appears more than once"
   ]
  },
  {
   "cell_type": "markdown",
   "metadata": {},
   "source": [
    "# Method 2"
   ]
  },
  {
   "cell_type": "code",
   "execution_count": 15,
   "metadata": {},
   "outputs": [],
   "source": [
    "mtr = df[['QuestionId','UserId','IsCorrect']]"
   ]
  },
  {
   "cell_type": "code",
   "execution_count": 16,
   "metadata": {},
   "outputs": [],
   "source": [
    "rows = df['UserId'].values\n",
    "cols = df['QuestionId'].values\n",
    "data = df['IsCorrect'].values\n",
    "data = data*2-1"
   ]
  },
  {
   "cell_type": "code",
   "execution_count": 17,
   "metadata": {},
   "outputs": [
    {
     "name": "stdout",
     "output_type": "stream",
     "text": [
      "21748 22896 -1\n",
      "[22896 21748     0]\n"
     ]
    }
   ],
   "source": [
    "ind = 4\n",
    "print(rows[ind],cols[ind],data[ind])\n",
    "print(mtr.values[ind])"
   ]
  },
  {
   "cell_type": "code",
   "execution_count": 18,
   "metadata": {},
   "outputs": [],
   "source": [
    "sparse_mtr = csc_matrix((data, (rows, cols)), dtype=np.int8)"
   ]
  },
  {
   "cell_type": "code",
   "execution_count": 76,
   "metadata": {},
   "outputs": [
    {
     "name": "stdout",
     "output_type": "stream",
     "text": [
      "<class 'scipy.sparse.csc.csc_matrix'>\n"
     ]
    }
   ],
   "source": [
    "from sparsesvd import sparsesvd\n",
    "K = 250\n",
    "print(type(sparse_mtr))\n",
    "U, s, Vt = sparsesvd(sparse_mtr, K)"
   ]
  },
  {
   "cell_type": "code",
   "execution_count": 77,
   "metadata": {},
   "outputs": [],
   "source": [
    "S = np.diag(s)"
   ]
  },
  {
   "cell_type": "code",
   "execution_count": 78,
   "metadata": {},
   "outputs": [
    {
     "data": {
      "text/plain": [
       "(250, 27613)"
      ]
     },
     "execution_count": 78,
     "metadata": {},
     "output_type": "execute_result"
    }
   ],
   "source": [
    "right_term = np.matmul(S,Vt)\n",
    "right_term.shape\n",
    "# U.shape"
   ]
  },
  {
   "cell_type": "code",
   "execution_count": null,
   "metadata": {},
   "outputs": [],
   "source": []
  },
  {
   "cell_type": "code",
   "execution_count": 79,
   "metadata": {},
   "outputs": [],
   "source": [
    "def get_pred(qid,uid):\n",
    "    user_features = U[:,uid]\n",
    "    question_features = right_term[:,qid]\n",
    "    score = np.dot(user_features,question_features)\n",
    "    return np.sign(score)"
   ]
  },
  {
   "cell_type": "code",
   "execution_count": 80,
   "metadata": {},
   "outputs": [
    {
     "name": "stdout",
     "output_type": "stream",
     "text": [
      "   QuestionId  UserId  AnswerId  IsCorrect\n",
      "0       10856    5518   1127409          1\n",
      "1       14766   41565  19673056          1\n",
      "2        2829   97267  19426951          0\n",
      "3       26464  100879   4929721          1\n",
      "4       24436   87722   2927607          0\n"
     ]
    }
   ],
   "source": [
    "df_pred = df_test.copy()\n",
    "print(df_pred.head())\n",
    "df_pred['Prediction'] = df_pred.apply(lambda row: get_pred(row['QuestionId'],row['UserId']), axis=1)"
   ]
  },
  {
   "cell_type": "code",
   "execution_count": 81,
   "metadata": {},
   "outputs": [],
   "source": [
    "df_pred['Prediction'] = (df_pred['Prediction'] + 1)/2"
   ]
  },
  {
   "cell_type": "code",
   "execution_count": 82,
   "metadata": {},
   "outputs": [
    {
     "data": {
      "text/plain": [
       "0.7363478651925579"
      ]
     },
     "execution_count": 82,
     "metadata": {},
     "output_type": "execute_result"
    }
   ],
   "source": [
    "score_num = (df_pred['Prediction'] == df_pred['IsCorrect']).sum()\n",
    "score_den = len(df_pred)\n",
    "score = score_num / score_den\n",
    "score"
   ]
  },
  {
   "cell_type": "code",
   "execution_count": null,
   "metadata": {},
   "outputs": [],
   "source": []
  }
 ],
 "metadata": {
  "colab": {
   "collapsed_sections": [],
   "name": "ed_v1.ipynb",
   "provenance": []
  },
  "kernelspec": {
   "display_name": "Python 3",
   "language": "python",
   "name": "python3"
  },
  "language_info": {
   "codemirror_mode": {
    "name": "ipython",
    "version": 3
   },
   "file_extension": ".py",
   "mimetype": "text/x-python",
   "name": "python",
   "nbconvert_exporter": "python",
   "pygments_lexer": "ipython3",
   "version": "3.7.6"
  }
 },
 "nbformat": 4,
 "nbformat_minor": 4
}
