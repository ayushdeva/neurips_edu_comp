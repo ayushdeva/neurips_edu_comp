{
 "cells": [
  {
   "cell_type": "code",
   "execution_count": 3,
   "metadata": {},
   "outputs": [
    {
     "name": "stdout",
     "output_type": "stream",
     "text": [
      "PyTorch Version:  1.5.1\n",
      "Torchvision Version:  0.6.0a0+35d732a\n"
     ]
    }
   ],
   "source": [
    "from __future__ import print_function\n",
    "from __future__ import division\n",
    "import torch\n",
    "import sys\n",
    "import torch.nn as nn\n",
    "import torch.optim as optim\n",
    "import numpy as np\n",
    "import pandas as pd\n",
    "import matplotlib.pyplot as plt\n",
    "import time\n",
    "import os\n",
    "import copy\n",
    "from torch import autograd\n",
    "from torch.autograd import Variable\n",
    "from sklearn.metrics import confusion_matrix\n",
    "from torch.utils.data import Dataset, DataLoader\n",
    "import pickle as pkl\n",
    "print(\"PyTorch Version: \",torch.__version__)\n",
    "print(\"Torchvision Version: \",torchvision.__version__)"
   ]
  },
  {
   "cell_type": "code",
   "execution_count": null,
   "metadata": {},
   "outputs": [],
   "source": [
    "base_dir = '../Data/'\n",
    "\n",
    "input_dir = base_dir + \"data/train_data\"\n",
    "train_data = base_dir + \"data/train_data/train_task_1_2.csv\"\n",
    "test_data_1 = base_dir + \"data/test_data/test_public_answers_task_1.csv\"\n",
    "# submission_template_dir = base_dir + \"data/train_data\"\n",
    "# submission_template_file = base_dir + \"data/train_data\"\n",
    "# output_dir = base_dir + \"data/train_data\"\n",
    "# output_file = base_dir + \"data/train_data\""
   ]
  },
  {
   "cell_type": "code",
   "execution_count": null,
   "metadata": {},
   "outputs": [],
   "source": [
    "df = pd.read_csv(train_data)"
   ]
  },
  {
   "cell_type": "code",
   "execution_count": null,
   "metadata": {},
   "outputs": [],
   "source": [
    "rows = df['UserId'].values\n",
    "cols = df['QuestionId'].values\n",
    "data = df['IsCorrect'].values"
   ]
  },
  {
   "cell_type": "code",
   "execution_count": null,
   "metadata": {},
   "outputs": [],
   "source": [
    "user_features = rand(n,k)\n",
    "ques_features = rand(k,m)\n",
    "\n",
    "# option 1\n",
    "out = user_features*ques_features\n",
    "loss = criterios(out,truee)\n",
    "loss.backward()\n",
    "\n",
    "# does it take care of everything? "
   ]
  },
  {
   "cell_type": "code",
   "execution_count": null,
   "metadata": {},
   "outputs": [],
   "source": [
    "# option 2\n",
    "\n",
    "for each user,question pair\n",
    "\n",
    "out = user_features[i]*question_features[j]\n",
    "loss = (out-true)**2\n",
    "loss.backward()"
   ]
  }
 ],
 "metadata": {
  "kernelspec": {
   "display_name": "Python 3",
   "language": "python",
   "name": "python3"
  },
  "language_info": {
   "codemirror_mode": {
    "name": "ipython",
    "version": 3
   },
   "file_extension": ".py",
   "mimetype": "text/x-python",
   "name": "python",
   "nbconvert_exporter": "python",
   "pygments_lexer": "ipython3",
   "version": "3.7.6"
  }
 },
 "nbformat": 4,
 "nbformat_minor": 4
}
