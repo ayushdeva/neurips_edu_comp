{
 "cells": [
  {
   "cell_type": "code",
   "execution_count": 114,
   "metadata": {},
   "outputs": [],
   "source": [
    "import numpy as np\n",
    "from scipy.sparse import rand as sprand\n",
    "import torch\n",
    "import pandas as pd"
   ]
  },
  {
   "cell_type": "code",
   "execution_count": 115,
   "metadata": {},
   "outputs": [],
   "source": [
    "base_dir = '../Data/'\n",
    "\n",
    "input_dir = base_dir + \"data/train_data\"\n",
    "train_data = base_dir + \"data/train_data/train_task_1_2.csv\"\n",
    "test_data_1 = base_dir + \"data/test_data/test_public_answers_task_1.csv\""
   ]
  },
  {
   "cell_type": "code",
   "execution_count": 116,
   "metadata": {},
   "outputs": [],
   "source": [
    "df = pd.read_csv(train_data)"
   ]
  },
  {
   "cell_type": "code",
   "execution_count": 117,
   "metadata": {},
   "outputs": [],
   "source": [
    "rows = df['UserId'].values\n",
    "cols = df['QuestionId'].values\n",
    "data = df['IsCorrect'].values"
   ]
  },
  {
   "cell_type": "code",
   "execution_count": 118,
   "metadata": {},
   "outputs": [],
   "source": [
    "# Make up some random explicit feedback ratings\n",
    "# and convert to a numpy array\n",
    "n_users = 120000\n",
    "n_items = 28000"
   ]
  },
  {
   "cell_type": "code",
   "execution_count": 119,
   "metadata": {},
   "outputs": [],
   "source": [
    "class MatrixFactorization(torch.nn.Module):\n",
    "    def __init__(self, n_users, n_items, n_factors=20):\n",
    "        super().__init__()\n",
    "        self.user_factors = torch.nn.Embedding(n_users, n_factors, sparse=True)\n",
    "        self.item_factors = torch.nn.Embedding(n_items, n_factors, sparse=True)\n",
    "\n",
    "    def forward(self, user, item):\n",
    "        return torch.sum(self.user_factors(user) * self.item_factors(item))"
   ]
  },
  {
   "cell_type": "code",
   "execution_count": 120,
   "metadata": {},
   "outputs": [],
   "source": [
    "model = MatrixFactorization(n_users, n_items, n_factors=20)"
   ]
  },
  {
   "cell_type": "code",
   "execution_count": 121,
   "metadata": {},
   "outputs": [],
   "source": [
    "loss_func = torch.nn.MSELoss()"
   ]
  },
  {
   "cell_type": "code",
   "execution_count": 122,
   "metadata": {},
   "outputs": [],
   "source": [
    "optimizer = torch.optim.SGD(model.parameters(), lr=1e-3)  # learning rate"
   ]
  },
  {
   "cell_type": "code",
   "execution_count": 123,
   "metadata": {},
   "outputs": [
    {
     "name": "stdout",
     "output_type": "stream",
     "text": [
      "15867850\n"
     ]
    }
   ],
   "source": [
    "print(len(rows))"
   ]
  },
  {
   "cell_type": "code",
   "execution_count": 124,
   "metadata": {},
   "outputs": [],
   "source": [
    "n_epochs = 10"
   ]
  },
  {
   "cell_type": "code",
   "execution_count": 125,
   "metadata": {},
   "outputs": [
    {
     "name": "stdout",
     "output_type": "stream",
     "text": [
      "tensor(206834.9531, grad_fn=<AddBackward0>)\n",
      "tensor(171390.9844, grad_fn=<AddBackward0>)\n",
      "tensor(142705.9219, grad_fn=<AddBackward0>)\n",
      "tensor(119313.7812, grad_fn=<AddBackward0>)\n",
      "tensor(100118.2891, grad_fn=<AddBackward0>)\n",
      "tensor(84282.6328, grad_fn=<AddBackward0>)\n",
      "tensor(71159.1719, grad_fn=<AddBackward0>)\n",
      "tensor(60239.6016, grad_fn=<AddBackward0>)\n",
      "tensor(51121.8398, grad_fn=<AddBackward0>)\n",
      "tensor(43483.8125, grad_fn=<AddBackward0>)\n"
     ]
    }
   ],
   "source": [
    "# rows, cols = ratings.nonzero()\n",
    "p = np.random.permutation(len(rows))\n",
    "rows, cols, data = rows[p], cols[p], data[p]\n",
    "train_on = 10000\n",
    "rows, cols, data = rows[:train_on], cols[:train_on], data[:train_on]\n",
    "\n",
    "for i in range(n_epochs):\n",
    "    epoch_loss = 0\n",
    "    for row, col, d in zip(*(rows,cols,data)):\n",
    "        # Set gradients to zero\n",
    "        optimizer.zero_grad()\n",
    "\n",
    "        # Turn data into tensors\n",
    "        ans = torch.FloatTensor([d])\n",
    "        row = torch.LongTensor([row])\n",
    "        col = torch.LongTensor([col])\n",
    "\n",
    "        # Predict and calculate loss\n",
    "        prediction = model(row, col)\n",
    "    #     print(prediction)\n",
    "        loss = loss_func(prediction, ans)\n",
    "        epoch_loss += loss\n",
    "\n",
    "        # Backpropagate\n",
    "        loss.backward()\n",
    "\n",
    "        # Update the parameters\n",
    "        optimizer.step()\n",
    "    print(epoch_loss)"
   ]
  },
  {
   "cell_type": "code",
   "execution_count": null,
   "metadata": {},
   "outputs": [],
   "source": []
  },
  {
   "cell_type": "code",
   "execution_count": 126,
   "metadata": {},
   "outputs": [],
   "source": [
    "df_test = pd.read_csv(test_data_1)"
   ]
  },
  {
   "cell_type": "code",
   "execution_count": 143,
   "metadata": {},
   "outputs": [],
   "source": [
    "rows = df_test['UserId'].values\n",
    "cols = df_test['QuestionId'].values\n",
    "data = df_test['IsCorrect'].values"
   ]
  },
  {
   "cell_type": "code",
   "execution_count": 144,
   "metadata": {},
   "outputs": [
    {
     "name": "stdout",
     "output_type": "stream",
     "text": [
      "Embedding(120000, 20, sparse=True)\n",
      "Embedding(28000, 20, sparse=True)\n",
      "tensor([[ 0.0966, -0.4210,  0.2270,  0.0751, -0.8795,  0.5202, -0.5232,  0.7825,\n",
      "         -1.7775,  0.9210,  0.4521, -0.0296, -1.6099, -0.7808, -0.0815,  1.3386,\n",
      "          1.3659, -0.3038,  0.9441, -1.9193]], grad_fn=<EmbeddingBackward>)\n",
      "tensor([[ 0.9906,  0.4780, -2.9694, -0.5586,  1.8096, -0.5160, -0.4232,  0.4326,\n",
      "          0.7676,  1.2132,  1.2593,  0.3399, -0.7448, -0.3514,  0.0400, -0.1369,\n",
      "         -0.0539,  0.2454,  0.2397, -0.4897]], grad_fn=<EmbeddingBackward>)\n",
      "tensor([[ 0.0957, -0.2012, -0.6739, -0.0420, -1.5916, -0.2684,  0.2214,  0.3385,\n",
      "         -1.3644,  1.1173,  0.5693, -0.0100,  1.1990,  0.2744, -0.0033, -0.1832,\n",
      "         -0.0736, -0.0745,  0.2263,  0.9399]], grad_fn=<MulBackward0>)\n"
     ]
    },
    {
     "data": {
      "text/plain": [
       "tensor(0.4958, grad_fn=<SumBackward0>)"
      ]
     },
     "execution_count": 144,
     "metadata": {},
     "output_type": "execute_result"
    }
   ],
   "source": [
    "print(model.user_factors)\n",
    "print(model.item_factors)\n",
    "\n",
    "print(model.user_factors(torch.LongTensor([1.0])))\n",
    "print(model.user_factors(torch.LongTensor([5518.0])))\n",
    "print(model.user_factors(torch.LongTensor([1.0])) * model.user_factors(torch.LongTensor([5518.0])))\n",
    "\n",
    "torch.sum(model.user_factors(torch.LongTensor([1.0])) * model.user_factors(torch.LongTensor([5518.0])))"
   ]
  },
  {
   "cell_type": "code",
   "execution_count": 145,
   "metadata": {},
   "outputs": [
    {
     "data": {
      "text/plain": [
       "1983481"
      ]
     },
     "execution_count": 145,
     "metadata": {},
     "output_type": "execute_result"
    }
   ],
   "source": [
    "len(rows)"
   ]
  },
  {
   "cell_type": "code",
   "execution_count": 146,
   "metadata": {},
   "outputs": [],
   "source": [
    "test_on = 1000000\n",
    "rows, cols, data = rows[:test_on], cols[:test_on], data[:test_on]"
   ]
  },
  {
   "cell_type": "code",
   "execution_count": 147,
   "metadata": {},
   "outputs": [],
   "source": [
    "conf_matrix = [[0,0],[0,0]]\n",
    "\n",
    "for row, col, d in zip(*(rows,cols,data)):\n",
    "    # Set gradients to zero\n",
    "    optimizer.zero_grad()\n",
    "    \n",
    "    # Turn data into tensors\n",
    "    ans = torch.FloatTensor([d])\n",
    "    row = torch.LongTensor([row])\n",
    "    col = torch.LongTensor([col])\n",
    "\n",
    "    # Predict and calculate loss\n",
    "#     print(ans,row,col)\n",
    "    prediction = model(row, col)\n",
    "#     print(prediction)\n",
    "    if(prediction > 0.5) :\n",
    "        pred = 1\n",
    "    else :\n",
    "        pred = 0\n",
    "    \n",
    "#     print(ans)\n",
    "    conf_matrix[pred][int(ans)] += 1\n",
    "\n",
    "    # Backpropagate\n",
    "#     loss.backward()\n",
    "\n",
    "    # Update the parameters\n",
    "#     optimizer.step()"
   ]
  },
  {
   "cell_type": "code",
   "execution_count": 148,
   "metadata": {},
   "outputs": [
    {
     "data": {
      "text/plain": [
       "[[195027, 351397], [161612, 291964]]"
      ]
     },
     "execution_count": 148,
     "metadata": {},
     "output_type": "execute_result"
    }
   ],
   "source": [
    "conf_matrix"
   ]
  },
  {
   "cell_type": "code",
   "execution_count": null,
   "metadata": {},
   "outputs": [],
   "source": []
  }
 ],
 "metadata": {
  "kernelspec": {
   "display_name": "Python 3",
   "language": "python",
   "name": "python3"
  },
  "language_info": {
   "codemirror_mode": {
    "name": "ipython",
    "version": 3
   },
   "file_extension": ".py",
   "mimetype": "text/x-python",
   "name": "python",
   "nbconvert_exporter": "python",
   "pygments_lexer": "ipython3",
   "version": "3.7.6"
  }
 },
 "nbformat": 4,
 "nbformat_minor": 4
}
