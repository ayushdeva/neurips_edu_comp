{
 "cells": [
  {
   "cell_type": "code",
   "execution_count": 1,
   "metadata": {},
   "outputs": [],
   "source": [
    "import numpy as np\n",
    "from scipy.sparse import rand as sprand\n",
    "import torch\n",
    "import pandas as pd\n",
    "import pickle as pkl"
   ]
  },
  {
   "cell_type": "code",
   "execution_count": 2,
   "metadata": {},
   "outputs": [],
   "source": [
    "base_dir = '../Data/'\n",
    "\n",
    "input_dir = base_dir + \"data/train_data\"\n",
    "train_data = base_dir + \"data/train_data/train_task_1_2.csv\"\n",
    "test_data_1 = base_dir + \"data/test_data/test_public_answers_task_1.csv\""
   ]
  },
  {
   "cell_type": "code",
   "execution_count": 3,
   "metadata": {},
   "outputs": [],
   "source": [
    "df = pd.read_csv(train_data)"
   ]
  },
  {
   "cell_type": "code",
   "execution_count": 4,
   "metadata": {},
   "outputs": [],
   "source": [
    "rows = df['UserId'].values\n",
    "cols = df['QuestionId'].values\n",
    "data = df['IsCorrect'].values"
   ]
  },
  {
   "cell_type": "code",
   "execution_count": 3,
   "metadata": {},
   "outputs": [],
   "source": [
    "# Make up some random explicit feedback ratings\n",
    "# and convert to a numpy array\n",
    "n_users = 120000\n",
    "n_items = 28000"
   ]
  },
  {
   "cell_type": "code",
   "execution_count": 4,
   "metadata": {},
   "outputs": [],
   "source": [
    "class MatrixFactorization(torch.nn.Module):\n",
    "    def __init__(self, n_users, n_items, n_factors=20):\n",
    "        super().__init__()\n",
    "        self.user_factors = torch.nn.Embedding(n_users, n_factors, sparse=True)\n",
    "        self.item_factors = torch.nn.Embedding(n_items, n_factors, sparse=True)\n",
    "\n",
    "    def forward(self, user, item):\n",
    "        return torch.sum(self.user_factors(user) * self.item_factors(item))"
   ]
  },
  {
   "cell_type": "code",
   "execution_count": 5,
   "metadata": {},
   "outputs": [],
   "source": [
    "model = MatrixFactorization(n_users, n_items, n_factors=20)"
   ]
  },
  {
   "cell_type": "code",
   "execution_count": 8,
   "metadata": {},
   "outputs": [],
   "source": [
    "loss_func = torch.nn.MSELoss()"
   ]
  },
  {
   "cell_type": "code",
   "execution_count": 24,
   "metadata": {},
   "outputs": [],
   "source": [
    "optimizer = torch.optim.SGD(model.parameters(), lr=1e-3)  # learning rate"
   ]
  },
  {
   "cell_type": "code",
   "execution_count": 123,
   "metadata": {},
   "outputs": [
    {
     "name": "stdout",
     "output_type": "stream",
     "text": [
      "15867850\n"
     ]
    }
   ],
   "source": [
    "print(len(rows))"
   ]
  },
  {
   "cell_type": "code",
   "execution_count": 124,
   "metadata": {},
   "outputs": [],
   "source": [
    "n_epochs = 10"
   ]
  },
  {
   "cell_type": "code",
   "execution_count": 125,
   "metadata": {},
   "outputs": [
    {
     "name": "stdout",
     "output_type": "stream",
     "text": [
      "tensor(206834.9531, grad_fn=<AddBackward0>)\n",
      "tensor(171390.9844, grad_fn=<AddBackward0>)\n",
      "tensor(142705.9219, grad_fn=<AddBackward0>)\n",
      "tensor(119313.7812, grad_fn=<AddBackward0>)\n",
      "tensor(100118.2891, grad_fn=<AddBackward0>)\n",
      "tensor(84282.6328, grad_fn=<AddBackward0>)\n",
      "tensor(71159.1719, grad_fn=<AddBackward0>)\n",
      "tensor(60239.6016, grad_fn=<AddBackward0>)\n",
      "tensor(51121.8398, grad_fn=<AddBackward0>)\n",
      "tensor(43483.8125, grad_fn=<AddBackward0>)\n"
     ]
    }
   ],
   "source": [
    "# rows, cols = ratings.nonzero()\n",
    "p = np.random.permutation(len(rows))\n",
    "rows, cols, data = rows[p], cols[p], data[p]\n",
    "train_on = 10000\n",
    "rows, cols, data = rows[:train_on], cols[:train_on], data[:train_on]\n",
    "\n",
    "for i in range(n_epochs):\n",
    "    epoch_loss = 0\n",
    "    for row, col, d in zip(*(rows,cols,data)):\n",
    "        # Set gradients to zero\n",
    "        optimizer.zero_grad()\n",
    "\n",
    "        # Turn data into tensors\n",
    "        ans = torch.FloatTensor([d])\n",
    "        row = torch.LongTensor([row])\n",
    "        col = torch.LongTensor([col])\n",
    "\n",
    "        # Predict and calculate loss\n",
    "        prediction = model(row, col)\n",
    "    #     print(prediction)\n",
    "        loss = loss_func(prediction, ans)\n",
    "        epoch_loss += loss\n",
    "\n",
    "        # Backpropagate\n",
    "        loss.backward()\n",
    "\n",
    "        # Update the parameters\n",
    "        optimizer.step()\n",
    "    print(epoch_loss)"
   ]
  },
  {
   "cell_type": "code",
   "execution_count": null,
   "metadata": {},
   "outputs": [],
   "source": []
  },
  {
   "cell_type": "code",
   "execution_count": 6,
   "metadata": {},
   "outputs": [],
   "source": [
    "df_test = pd.read_csv(test_data_1)"
   ]
  },
  {
   "cell_type": "code",
   "execution_count": 7,
   "metadata": {},
   "outputs": [],
   "source": [
    "rows = df_test['UserId'].values\n",
    "cols = df_test['QuestionId'].values\n",
    "data = df_test['IsCorrect'].values"
   ]
  },
  {
   "cell_type": "code",
   "execution_count": 8,
   "metadata": {},
   "outputs": [
    {
     "name": "stdout",
     "output_type": "stream",
     "text": [
      "Embedding(120000, 20, sparse=True)\n",
      "Embedding(28000, 20, sparse=True)\n",
      "tensor([[-1.9246,  0.9071, -0.1746,  0.3423, -0.4570,  1.0863,  0.0396, -0.0787,\n",
      "         -0.3062,  2.0754, -0.4159, -0.5939,  1.5841,  0.3556, -0.6180,  0.8134,\n",
      "         -0.5118,  1.3355, -1.1820, -0.1426]], grad_fn=<EmbeddingBackward>)\n",
      "tensor([[ 1.1567, -2.7684, -0.6423, -0.9644,  0.5254,  1.0724,  0.3142,  2.4482,\n",
      "         -0.3979,  1.1756,  0.4415, -0.4369, -0.9037, -1.3411, -2.2563,  2.2586,\n",
      "         -0.7399, -0.0851,  0.6647, -0.2716]], grad_fn=<EmbeddingBackward>)\n",
      "tensor([[-2.2261, -2.5111,  0.1121, -0.3301, -0.2401,  1.1649,  0.0125, -0.1926,\n",
      "          0.1218,  2.4399, -0.1836,  0.2595, -1.4316, -0.4769,  1.3944,  1.8372,\n",
      "          0.3787, -0.1137, -0.7857,  0.0387]], grad_fn=<MulBackward0>)\n"
     ]
    },
    {
     "data": {
      "text/plain": [
       "tensor(-0.7318, grad_fn=<SumBackward0>)"
      ]
     },
     "execution_count": 8,
     "metadata": {},
     "output_type": "execute_result"
    }
   ],
   "source": [
    "print(model.user_factors)\n",
    "print(model.item_factors)\n",
    "\n",
    "print(model.user_factors(torch.LongTensor([1.0])))\n",
    "print(model.user_factors(torch.LongTensor([5518.0])))\n",
    "print(model.user_factors(torch.LongTensor([1.0])) * model.user_factors(torch.LongTensor([5518.0])))\n",
    "\n",
    "torch.sum(model.user_factors(torch.LongTensor([1.0])) * model.user_factors(torch.LongTensor([5518.0])))"
   ]
  },
  {
   "cell_type": "code",
   "execution_count": 9,
   "metadata": {},
   "outputs": [],
   "source": [
    "q_path = \"../weights/simple_fact_q_best_cpu.pkl\"\n",
    "\n",
    "with open(q_path,'rb') as f:\n",
    "    model.item_factors = pkl.load(f)"
   ]
  },
  {
   "cell_type": "code",
   "execution_count": 10,
   "metadata": {},
   "outputs": [],
   "source": [
    "u_path = \"../weights/simple_fact_u_best_cpu.pkl\"\n",
    "\n",
    "with open(u_path,'rb') as f:\n",
    "    model.user_factors = pkl.load(f)"
   ]
  },
  {
   "cell_type": "code",
   "execution_count": 11,
   "metadata": {},
   "outputs": [
    {
     "name": "stdout",
     "output_type": "stream",
     "text": [
      "28000\n",
      "119000\n"
     ]
    }
   ],
   "source": [
    "print(model.item_factors.num_embeddings)\n",
    "print(model.user_factors.num_embeddings)"
   ]
  },
  {
   "cell_type": "code",
   "execution_count": 12,
   "metadata": {},
   "outputs": [
    {
     "data": {
      "text/plain": [
       "1983481"
      ]
     },
     "execution_count": 12,
     "metadata": {},
     "output_type": "execute_result"
    }
   ],
   "source": [
    "len(rows)"
   ]
  },
  {
   "cell_type": "code",
   "execution_count": 13,
   "metadata": {},
   "outputs": [],
   "source": [
    "test_on = 100000\n",
    "rows, cols, data = rows[:test_on], cols[:test_on], data[:test_on]"
   ]
  },
  {
   "cell_type": "code",
   "execution_count": 21,
   "metadata": {},
   "outputs": [],
   "source": [
    "conf_matrix = [[0,0],[0,0]]\n",
    "\n",
    "for row, col, d in zip(*(rows,cols,data)):\n",
    "    \n",
    "    # Turn data into tensors\n",
    "    ans = torch.FloatTensor([d])\n",
    "    row = torch.LongTensor([row])\n",
    "    col = torch.LongTensor([col])\n",
    "\n",
    "    # Predict and calculate loss\n",
    "#     print(ans,row,col)\n",
    "    prediction = model(row, col)\n",
    "#     print(prediction)\n",
    "    if(prediction > 0) :\n",
    "        pred = 1\n",
    "    else :\n",
    "        pred = 0\n",
    "    \n",
    "#     print(ans)\n",
    "    conf_matrix[pred][int(ans)] += 1\n",
    "\n",
    "    # Backpropagate\n",
    "#     loss.backward()\n",
    "\n",
    "    # Update the parameters\n",
    "#     optimizer.step()"
   ]
  },
  {
   "cell_type": "code",
   "execution_count": 22,
   "metadata": {},
   "outputs": [
    {
     "data": {
      "text/plain": [
       "[[17837, 32292], [17593, 32278]]"
      ]
     },
     "execution_count": 22,
     "metadata": {},
     "output_type": "execute_result"
    }
   ],
   "source": [
    "conf_matrix"
   ]
  },
  {
   "cell_type": "code",
   "execution_count": null,
   "metadata": {},
   "outputs": [],
   "source": []
  }
 ],
 "metadata": {
  "kernelspec": {
   "display_name": "Python 3",
   "language": "python",
   "name": "python3"
  },
  "language_info": {
   "codemirror_mode": {
    "name": "ipython",
    "version": 3
   },
   "file_extension": ".py",
   "mimetype": "text/x-python",
   "name": "python",
   "nbconvert_exporter": "python",
   "pygments_lexer": "ipython3",
   "version": "3.7.6"
  }
 },
 "nbformat": 4,
 "nbformat_minor": 4
}
