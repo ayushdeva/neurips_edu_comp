{
 "cells": [
  {
   "cell_type": "code",
   "execution_count": 1,
   "metadata": {},
   "outputs": [],
   "source": [
    "# %pdb"
   ]
  },
  {
   "cell_type": "code",
   "execution_count": 2,
   "metadata": {},
   "outputs": [
    {
     "name": "stdout",
     "output_type": "stream",
     "text": [
      "PyTorch Version:  1.5.1\n"
     ]
    }
   ],
   "source": [
    "from __future__ import print_function\n",
    "from __future__ import division\n",
    "import torch\n",
    "import sys\n",
    "import torch.nn as nn\n",
    "import torch.optim as optim\n",
    "import numpy as np\n",
    "import pandas as pd\n",
    "import matplotlib.pyplot as plt\n",
    "import time\n",
    "import os\n",
    "import copy\n",
    "from torch import autograd\n",
    "from torch.autograd import Variable\n",
    "import scipy.misc\n",
    "from sklearn.metrics import confusion_matrix\n",
    "from torch.utils.data import Dataset, DataLoader\n",
    "from torchvision.utils import make_grid\n",
    "import pickle as pkl\n",
    "print(\"PyTorch Version: \",torch.__version__)\n",
    "from tqdm import tqdm\n",
    "import pytorch_lightning as pl\n",
    "from pytorch_lightning.metrics.functional import accuracy"
   ]
  },
  {
   "cell_type": "code",
   "execution_count": 3,
   "metadata": {},
   "outputs": [],
   "source": [
    "class MatrixFactorization(pl.LightningModule):\n",
    "\n",
    "    def __init__(self,total_q,total_s,K=100, lr=1e-3):\n",
    "        super(MatrixFactorization, self).__init__()\n",
    "        self.K = K\n",
    "        self.lr = lr\n",
    "        self.Q = torch.nn.Embedding(total_q,self.K)\n",
    "        self.U = torch.nn.Embedding(total_s,self.K)\n",
    "    \n",
    "    def get_qvector(self,questions):\n",
    "        ans = self.Q(questions)\n",
    "        return ans\n",
    "    \n",
    "    def get_uvector(self,users):\n",
    "        ans = self.U(users)\n",
    "        return ans\n",
    "\n",
    "    def get_score(self,qvectors,uvectors):\n",
    "        q_unsq = torch.unsqueeze(qvectors, 1)\n",
    "        u_unsq = torch.unsqueeze(uvectors, 2)\n",
    "        score = torch.bmm(q_unsq,u_unsq)\n",
    "        score = torch.squeeze(score)\n",
    "        return score\n",
    "    \n",
    "    def forward(self, questions,users):\n",
    "#         print('Score calculating ... ')\n",
    "        score = self.get_score( self.get_qvector(questions), self.get_uvector(users) )\n",
    "#         print('Score calculated successfully')\n",
    "        return score.type(torch.DoubleTensor)\n",
    "\n",
    "    def training_step(self, batch, batch_nb):\n",
    "        questions, users, answers = batch\n",
    "        criterion = nn.MSELoss()\n",
    "#         print('Loss calculating ... ')\n",
    "        loss = criterion(self(questions,users), answers)\n",
    "#         print('Loss calculated successfully')\n",
    "        self.log('tain_loss', loss, prog_bar=True)\n",
    "        return loss\n",
    "        \n",
    "    def validation_step(self, batch, batch_idx):\n",
    "        questions, users, answers = batch\n",
    "        scores = self(questions,users)\n",
    "        criterion = nn.MSELoss()\n",
    "        loss = criterion(scores, answers)\n",
    "        preds = torch.sign(scores)\n",
    "#         acc = accuracy(preds, answers)\n",
    "\n",
    "        # Calling self.log will surface up scalars for you in TensorBoard\n",
    "        self.log('val_loss', loss, prog_bar=True)\n",
    "#         self.log('val_acc', acc, prog_bar=True)\n",
    "        return loss\n",
    "\n",
    "    def test_step(self, batch, batch_idx):\n",
    "        # Here we just reuse the validation_step for testing\n",
    "        return self.validation_step(batch, batch_idx)\n",
    "    \n",
    "    def configure_optimizers(self):\n",
    "        return torch.optim.SGD(self.parameters(), self.lr)"
   ]
  },
  {
   "cell_type": "code",
   "execution_count": 4,
   "metadata": {},
   "outputs": [],
   "source": [
    "class Question_Ans(Dataset):\n",
    "    def __init__(self, df, mode='train'):\n",
    "        self.df = df\n",
    "        self.questionid = self.df['QuestionId'].values\n",
    "        self.userid = self.df['UserId'].values\n",
    "        self.ans = self.df['IsCorrect'].values\n",
    "        \n",
    "        self.ans = 2*self.ans - 1\n",
    "        self.length=len(self.ans)\n",
    "        \n",
    "        if(mode=='train'):\n",
    "            start=int(0*self.length)\n",
    "            end=int(0.8*self.length)\n",
    "        elif(mode=='val'):\n",
    "            start=int(0.8*self.length)\n",
    "            end=int(1*self.length)\n",
    "        else:\n",
    "            start = 0\n",
    "            end = self.length\n",
    "            \n",
    "        self.questionid = self.questionid[start:end]\n",
    "        self.userid = self.userid[start:end]\n",
    "        self.ans = self.ans[start:end]\n",
    "        self.length=len(self.ans)\n",
    "        \n",
    "    def __len__(self):\n",
    "        return self.length\n",
    "    \n",
    "    def __getitem__(self, idx):\n",
    "        qid = self.questionid[idx]\n",
    "        uid = self.userid[idx]\n",
    "        ans = self.ans[idx]\n",
    "        ans = ans.astype(np.float64)\n",
    "        return qid,uid,ans"
   ]
  },
  {
   "cell_type": "code",
   "execution_count": 5,
   "metadata": {},
   "outputs": [],
   "source": [
    "data_file = \"../Data/data/train_data/train_task_1_2.csv\"\n",
    "batch_size = 32\n",
    "lr = 0.0001\n",
    "num_epochs = 5\n",
    "K = 100\n",
    "total_q = 28000\n",
    "total_s = 119000"
   ]
  },
  {
   "cell_type": "code",
   "execution_count": 6,
   "metadata": {},
   "outputs": [],
   "source": [
    "df = pd.read_csv(data_file)"
   ]
  },
  {
   "cell_type": "code",
   "execution_count": 7,
   "metadata": {},
   "outputs": [],
   "source": [
    "train_dataset = Question_Ans(df,mode='train')\n",
    "val_dataset = Question_Ans(df,mode='val')\n",
    "\n",
    "train_dataloader = torch.utils.data.DataLoader(train_dataset,batch_size=batch_size, shuffle=True, num_workers = 4)\n",
    "val_dataloader = torch.utils.data.DataLoader(val_dataset,batch_size=batch_size, shuffle=False, num_workers = 4)"
   ]
  },
  {
   "cell_type": "code",
   "execution_count": 8,
   "metadata": {},
   "outputs": [
    {
     "name": "stderr",
     "output_type": "stream",
     "text": [
      "GPU available: False, used: False\n",
      "TPU available: None, using: 0 TPU cores\n"
     ]
    }
   ],
   "source": [
    "# Init our model\n",
    "my_model = MatrixFactorization(total_q,total_s,K,lr)\n",
    "\n",
    "# Initialize a trainer\n",
    "# trainer = pl.Trainer(gpus=None, max_epochs=num_epochs, progress_bar_refresh_rate=20, default_root_dir='./weights/pytl_grad_descent/')\n",
    "trainer = pl.Trainer(gpus=None, max_epochs=num_epochs, progress_bar_refresh_rate=20)"
   ]
  },
  {
   "cell_type": "code",
   "execution_count": 9,
   "metadata": {},
   "outputs": [
    {
     "name": "stderr",
     "output_type": "stream",
     "text": [
      "\n",
      "  | Name | Type      | Params\n",
      "-----------------------------------\n",
      "0 | Q    | Embedding | 2.8 M \n",
      "1 | U    | Embedding | 11.9 M\n",
      "-----------------------------------\n",
      "14.7 M    Trainable params\n",
      "0         Non-trainable params\n",
      "14.7 M    Total params\n"
     ]
    },
    {
     "data": {
      "application/vnd.jupyter.widget-view+json": {
       "model_id": "e3e237a7a6cb439f9e0920423afd8377",
       "version_major": 2,
       "version_minor": 0
      },
      "text/plain": [
       "HBox(children=(FloatProgress(value=1.0, bar_style='info', description='Validation sanity check', layout=Layout…"
      ]
     },
     "metadata": {},
     "output_type": "display_data"
    },
    {
     "name": "stdout",
     "output_type": "stream",
     "text": [
      "\r"
     ]
    },
    {
     "data": {
      "application/vnd.jupyter.widget-view+json": {
       "model_id": "a52526ddea1543c98d5d1b21eed0d84f",
       "version_major": 2,
       "version_minor": 0
      },
      "text/plain": [
       "HBox(children=(FloatProgress(value=1.0, bar_style='info', description='Training', layout=Layout(flex='2'), max…"
      ]
     },
     "metadata": {},
     "output_type": "display_data"
    },
    {
     "name": "stderr",
     "output_type": "stream",
     "text": [
      "/Users/ayushd/opt/anaconda3/envs/pytl/lib/python3.7/site-packages/pytorch_lightning/utilities/distributed.py:49: UserWarning: Detected KeyboardInterrupt, attempting graceful shutdown...\n",
      "  warnings.warn(*args, **kwargs)\n"
     ]
    },
    {
     "name": "stdout",
     "output_type": "stream",
     "text": [
      "\n"
     ]
    },
    {
     "data": {
      "text/plain": [
       "1"
      ]
     },
     "execution_count": 9,
     "metadata": {},
     "output_type": "execute_result"
    }
   ],
   "source": [
    "# Train the model ⚡\n",
    "trainer.fit(my_model, train_dataloader, val_dataloader)"
   ]
  },
  {
   "cell_type": "code",
   "execution_count": null,
   "metadata": {},
   "outputs": [],
   "source": []
  },
  {
   "cell_type": "code",
   "execution_count": null,
   "metadata": {},
   "outputs": [],
   "source": []
  }
 ],
 "metadata": {
  "kernelspec": {
   "display_name": "Python 3",
   "language": "python",
   "name": "python3"
  },
  "language_info": {
   "codemirror_mode": {
    "name": "ipython",
    "version": 3
   },
   "file_extension": ".py",
   "mimetype": "text/x-python",
   "name": "python",
   "nbconvert_exporter": "python",
   "pygments_lexer": "ipython3",
   "version": "3.7.6"
  }
 },
 "nbformat": 4,
 "nbformat_minor": 4
}
